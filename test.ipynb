{
 "cells": [
  {
   "cell_type": "code",
   "execution_count": 10,
   "metadata": {},
   "outputs": [
    {
     "name": "stdout",
     "output_type": "stream",
     "text": [
      "(1, '**Гамлєт.** __Не можна мстить. Повинні ми любити всіх підорасів, злодіїв, убивць. Бо кожний з них — народ, всі — богоносці.__')\n",
      "(2, '**Зоя Жорівна.** __Нервове посмикування білочки — це живе свідоцтво міці нашого електричного струму, а також розплата за загублену білочкою тайгу.__')\n",
      "(3, \"**Савва Морозов.**\\nПиздять, що ти пророк — пророчествуй, що знаєш,\\nАбо уйобуй, щось одне iз двух.\\nТаких гандонiв часто бачив я,\\nЩо всiм пиздять: я — гуру, я — учитєль!\\nНесiть менi усi по три рубля\\nІ мудростi вам дам я дохуя.\\nА сам читать умiє по складам\\nІ голосно пердить в компан'ї дам.\")\n"
     ]
    }
   ],
   "source": [
    "import aiosqlite\n",
    "\n",
    "async def test():\n",
    "    async with aiosqlite.connect(\"phrases.db\") as db:\n",
    "        async with db.execute(\"SELECT * FROM phrases\") as cursor:\n",
    "            async for row in cursor:\n",
    "                print(row)\n",
    "\n",
    "await test()"
   ]
  }
 ],
 "metadata": {
  "kernelspec": {
   "display_name": "Python 3.10.5 64-bit",
   "language": "python",
   "name": "python3"
  },
  "language_info": {
   "codemirror_mode": {
    "name": "ipython",
    "version": 3
   },
   "file_extension": ".py",
   "mimetype": "text/x-python",
   "name": "python",
   "nbconvert_exporter": "python",
   "pygments_lexer": "ipython3",
   "version": "3.10.5"
  },
  "orig_nbformat": 4,
  "vscode": {
   "interpreter": {
    "hash": "118d2d70b9837ec74e99cd8e271bd7c1e24309015268c38b027840ab45e80ec0"
   }
  }
 },
 "nbformat": 4,
 "nbformat_minor": 2
}
